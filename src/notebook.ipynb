{
 "cells": [
  {
   "cell_type": "code",
   "execution_count": 18,
   "id": "daa5f328",
   "metadata": {},
   "outputs": [],
   "source": [
    "import pandas as pd\n",
    "from sklearn.feature_extraction.text import CountVectorizer\n",
    "from sklearn.metrics import pairwise_distances\n",
    "import numpy as np\n",
    "import ast\n",
    "headline_vectorizer = CountVectorizer()"
   ]
  },
  {
   "cell_type": "code",
   "execution_count": 23,
   "id": "9f8faac6",
   "metadata": {},
   "outputs": [],
   "source": [
    "news_dataset = pd.read_csv(\"./data_preprocessing/news_dataset.csv\")\n",
    "news_dataset.drop(['Unnamed: 0'], axis=1, inplace=True)\n",
    "news_dataset.reset_index(drop=True, inplace=True)"
   ]
  },
  {
   "cell_type": "code",
   "execution_count": 25,
   "id": "d3781f4f",
   "metadata": {},
   "outputs": [],
   "source": [
    "news_dataset.to_csv(\"news_dataset_clean.csv\")"
   ]
  },
  {
   "cell_type": "code",
   "execution_count": 26,
   "id": "520e715d",
   "metadata": {},
   "outputs": [],
   "source": [
    "history_dataset = pd.read_csv(\"./data_preprocessing/click_history.csv\")\n",
    "history_dataset.drop(['Unnamed: 0'], axis = 1, inplace = True)\n",
    "history_dataset.reset_index(drop=True, inplace=True)\n",
    "history_dataset['click_history'] = history_dataset['click_history'].fillna('[]')\n",
    "history_dataset['click_history'] = history_dataset['click_history'].apply(ast.literal_eval)\n",
    "history_dataset.reset_index(drop=True, inplace=True)"
   ]
  },
  {
   "cell_type": "code",
   "execution_count": 27,
   "id": "5fcacdb8",
   "metadata": {},
   "outputs": [],
   "source": [
    "history_dataset.to_csv(\"history_dataset_clean.csv\")"
   ]
  },
  {
   "cell_type": "code",
   "execution_count": null,
   "id": "68cd2e68",
   "metadata": {},
   "outputs": [],
   "source": []
  },
  {
   "cell_type": "code",
   "execution_count": 6,
   "id": "840bbf55",
   "metadata": {},
   "outputs": [],
   "source": [
    "news_dataset = pd.read_csv(\"./news_data.csv\")\n",
    "history_dataset = pd.read_csv(\"./history_data.csv\")"
   ]
  },
  {
   "cell_type": "code",
   "execution_count": 11,
   "id": "56d2fef4",
   "metadata": {},
   "outputs": [
    {
     "data": {
      "text/html": [
       "<div>\n",
       "<style scoped>\n",
       "    .dataframe tbody tr th:only-of-type {\n",
       "        vertical-align: middle;\n",
       "    }\n",
       "\n",
       "    .dataframe tbody tr th {\n",
       "        vertical-align: top;\n",
       "    }\n",
       "\n",
       "    .dataframe thead th {\n",
       "        text-align: right;\n",
       "    }\n",
       "</style>\n",
       "<table border=\"1\" class=\"dataframe\">\n",
       "  <thead>\n",
       "    <tr style=\"text-align: right;\">\n",
       "      <th></th>\n",
       "      <th>Unnamed: 0</th>\n",
       "      <th>userId</th>\n",
       "      <th>click_history</th>\n",
       "    </tr>\n",
       "  </thead>\n",
       "  <tbody>\n",
       "    <tr>\n",
       "      <th>0</th>\n",
       "      <td>0</td>\n",
       "      <td>U13740</td>\n",
       "      <td>['N55189', 'N42782', 'N34694', 'N45794', 'N184...</td>\n",
       "    </tr>\n",
       "    <tr>\n",
       "      <th>1</th>\n",
       "      <td>1</td>\n",
       "      <td>U91836</td>\n",
       "      <td>['N31739', 'N6072', 'N63045', 'N23979', 'N3565...</td>\n",
       "    </tr>\n",
       "    <tr>\n",
       "      <th>2</th>\n",
       "      <td>2</td>\n",
       "      <td>U73700</td>\n",
       "      <td>['N10732', 'N25792', 'N7563', 'N21087', 'N4108...</td>\n",
       "    </tr>\n",
       "    <tr>\n",
       "      <th>3</th>\n",
       "      <td>3</td>\n",
       "      <td>U34670</td>\n",
       "      <td>['N45729', 'N2203', 'N871', 'N53880', 'N41375'...</td>\n",
       "    </tr>\n",
       "    <tr>\n",
       "      <th>4</th>\n",
       "      <td>4</td>\n",
       "      <td>U8125</td>\n",
       "      <td>['N10078', 'N56514', 'N14904', 'N33740']</td>\n",
       "    </tr>\n",
       "    <tr>\n",
       "      <th>...</th>\n",
       "      <td>...</td>\n",
       "      <td>...</td>\n",
       "      <td>...</td>\n",
       "    </tr>\n",
       "    <tr>\n",
       "      <th>156960</th>\n",
       "      <td>156960</td>\n",
       "      <td>U21593</td>\n",
       "      <td>['N7432', 'N58559', 'N1954', 'N43353', 'N14343...</td>\n",
       "    </tr>\n",
       "    <tr>\n",
       "      <th>156961</th>\n",
       "      <td>156961</td>\n",
       "      <td>U10123</td>\n",
       "      <td>['N9803', 'N104', 'N24462', 'N57318', 'N55743'...</td>\n",
       "    </tr>\n",
       "    <tr>\n",
       "      <th>156962</th>\n",
       "      <td>156962</td>\n",
       "      <td>U75630</td>\n",
       "      <td>['N29898', 'N59704', 'N4408', 'N9803', 'N53644...</td>\n",
       "    </tr>\n",
       "    <tr>\n",
       "      <th>156963</th>\n",
       "      <td>156963</td>\n",
       "      <td>U44625</td>\n",
       "      <td>['N4118', 'N47297', 'N3164', 'N43295', 'N6056'...</td>\n",
       "    </tr>\n",
       "    <tr>\n",
       "      <th>156964</th>\n",
       "      <td>156964</td>\n",
       "      <td>U64800</td>\n",
       "      <td>['N22997', 'N48742']</td>\n",
       "    </tr>\n",
       "  </tbody>\n",
       "</table>\n",
       "<p>156965 rows × 3 columns</p>\n",
       "</div>"
      ],
      "text/plain": [
       "        Unnamed: 0  userId                                      click_history\n",
       "0                0  U13740  ['N55189', 'N42782', 'N34694', 'N45794', 'N184...\n",
       "1                1  U91836  ['N31739', 'N6072', 'N63045', 'N23979', 'N3565...\n",
       "2                2  U73700  ['N10732', 'N25792', 'N7563', 'N21087', 'N4108...\n",
       "3                3  U34670  ['N45729', 'N2203', 'N871', 'N53880', 'N41375'...\n",
       "4                4   U8125           ['N10078', 'N56514', 'N14904', 'N33740']\n",
       "...            ...     ...                                                ...\n",
       "156960      156960  U21593  ['N7432', 'N58559', 'N1954', 'N43353', 'N14343...\n",
       "156961      156961  U10123  ['N9803', 'N104', 'N24462', 'N57318', 'N55743'...\n",
       "156962      156962  U75630  ['N29898', 'N59704', 'N4408', 'N9803', 'N53644...\n",
       "156963      156963  U44625  ['N4118', 'N47297', 'N3164', 'N43295', 'N6056'...\n",
       "156964      156964  U64800                               ['N22997', 'N48742']\n",
       "\n",
       "[156965 rows x 3 columns]"
      ]
     },
     "execution_count": 11,
     "metadata": {},
     "output_type": "execute_result"
    }
   ],
   "source": [
    "history_dataset"
   ]
  },
  {
   "cell_type": "code",
   "execution_count": 20,
   "id": "7df2ef9e",
   "metadata": {},
   "outputs": [
    {
     "name": "stdout",
     "output_type": "stream",
     "text": [
      "{'N33951': 'New ISIS leader named after successful military raid', 'N52183': 'Intelligence, 2 associates captured after ISIS terrorist leader killed', 'N40463': 'Jimmy Carter hospitalized after fall', 'N40893': \"Baghdadi's death is not a triumph\", 'N36122': 'U.S. Delegation Visits Greenland', 'N22849': \"After Math: These aren't deals\", 'N60842': 'Bristol announces expansion of two businesses', 'N21002': 'Photos of the Day', 'N29398': 'MTA announces the expansion of OMNY', 'N15680': 'Jeff Sessions announces Senate run', 'N16914': \"Who's Afraid of Elizabeth Warren?\", 'N29669': 'The Fragility of American Citizenship', 'N5859': \"It's voting day! But where to go?\", 'N59744': 'NYPD commissioner to resign', 'N41623': \"Irvine's 3 best Brazilian steakhouses\", 'N29784': \"Monday's Connecticut Scholastic Scoreboard\", 'N35809': 'Mormons to the Rescue?', 'N20429': 'Veterans Day Parade set for Monday', 'N35406': 'The Best Gifts For Teens', 'N17155': '2 the Rescue: Meet Vertical', 'N21789': 'Look of the Day', 'N53306': 'The Secrets of Selling', 'N63620': '18 of the Best Halloween Costumes for Dogs', 'N7416': 'The best cat litter', 'N63368': 'Worcester fire lieutenant killed in early morning fire', 'N45161': 'Fire Destroys Home In Nottingham', 'N17388': 'Early morning Cambridge fire displaces eight residents', 'N27051': '1 injured in Raleigh house fire', 'N36383': \"Today's weather in Charlotte\", 'N54043': 'Fire damages pig barn', 'N21094': '8-year-old brings loaded gun to school, deputies say', 'N43277': '14-year-old baker gives cupcakes to homeless', 'N6860': 'School board to give $1.6M surplus to district employees', 'N14619': 'How not to get peace', 'N32087': 'New Hampshire woman enlists candidates to send cards to troops', 'N11041': 'Trump returns to Louisiana to campaign for Rispone', 'N16221': 'Democrats to test Trump as impeachment moves to new stage', 'N41535': \"Kentucky governor alludes to 'fixed' election\", 'N21415': 'How To Send Extra Halloween Candy To Troops', 'N40161': \"Today's weather in Berkeley\", 'N36679': \"Today's weather in Irvine\", 'N64722': 'Weather today in Miami', 'N3308': \"Today's weather in Phoenix\", 'N7110': 'Weather forecast in Milwaukee', 'N49182': 'Weather forecast in Charlotte', 'N61864': 'The News In Cartoons', 'N43941': 'The 4 best florists in Miami', 'N12271': 'The 3 best gyms in Aurora', 'N7665': 'The 3 best bakeries in Mesa', 'N12180': 'The 4 best vegan spots in Detroit', 'N982': 'The 5 best barber shops in Minneapolis', 'N14032': 'To All Those Who Have Served, Thank You', 'N62276': \"Sinema won't commit to voting for a Democrat\", 'N61296': \"California's wildfire, blackout crisis: Who's to blame?\", 'N34163': 'Is the Vikings offense unbeatable?', 'N22315': 'View from the Catwalks', 'N37285': 'The Big Takeaway: The Broncos offense is feckless', 'N63678': 'The 2019 Dallas Cowboys have a leadership problem', 'N42574': 'CATCH THE [SITE DECORUM] BALL!', 'N33970': \"The Film Room: The Baltimore Ravens' Unstoppable Run Offense\", 'N58626': 'Denton man charged with bigamy', 'N54144': 'Woman charged with fatally shooting Kernersville man', 'N46118': 'Fight leaves woman with gunshot to hand', 'N10436': \"Foster father charged with manslaughter in Meriden teen's death\", 'N61453': \"Mother charged in infant's death\", 'N46398': 'Man charged with murder in death of Roswell woman', 'N43741': 'Family of 7 Needs a Normal Life', 'N44249': 'Best royal photos of 2019', 'N63599': 'Top Holiday Toys of 2019', 'N62812': 'Akron Zoo mourns loss of jaguar Naom', 'N1426': 'Earthquake of 4.7 magnitude shakes Bosnia', 'N38778': 'Quinnipiac honors veterans with ceremony', 'N10670': \"James O'Neill: A Timeline\", 'N40538': \"Mildred Gildersleeve named to Florida Women's Hall of Fame\", 'N17551': \"One of Boston-area's last Friendly's closes\", 'N393': '1-on-1 with Rep. Mac Thornberry', 'N50455': 'The Unraveling of Donald Trump', 'N14031': \"Trump defends calling impeachment inquiry a 'lynching'\", 'N52475': 'N.Korea: Resorts & Deadlines', 'N34349': \"Rep. Debbie Wasserman Schultz accuses acting USCIS director of having a 'white supremacist ideology'\", 'N10981': \"Today's weather in Denver\"}\n"
     ]
    }
   ],
   "source": [
    "def euclidean_distance_based_model(title, num_similar_items, data):\n",
    "    try:\n",
    "        row_index = data[data['Title'] == title].index[0]\n",
    "        category = data['Category'][row_index]\n",
    "        category_data = data[data['Category'] == category]\n",
    "        headline_features = headline_vectorizer.fit_transform(category_data['Title'].values)\n",
    "        couple_dist = pairwise_distances(headline_features, headline_features[row_index])\n",
    "        indices = np.argsort(couple_dist.ravel())[1:num_similar_items + 1] \n",
    "        \n",
    "        similar_titles_dict = {}\n",
    "        for idx in indices:\n",
    "            similar_titles_dict[category_data.iloc[idx]['News ID']] = category_data.iloc[idx]['Title']\n",
    "\n",
    "        return similar_titles_dict\n",
    "    except:\n",
    "        return None\n",
    "\n",
    "user_id = \"U44625\"\n",
    "user_click_history = history_dataset[history_dataset.userId == user_id].reset_index()['click_history'][0]\n",
    "\n",
    "combined_similar_titles = {}  \n",
    "\n",
    "for history in user_click_history:\n",
    "    try:\n",
    "        title = news_dataset[news_dataset['News ID'] == history]['Title'].values[0]\n",
    "        input_title = title\n",
    "        similar_titles = euclidean_distance_based_model(input_title, 6, news_dataset)\n",
    "        if similar_titles is not None:\n",
    "            combined_similar_titles.update(similar_titles)\n",
    "    except IndexError:\n",
    "        pass\n",
    "\n",
    "print(combined_similar_titles)"
   ]
  },
  {
   "cell_type": "code",
   "execution_count": null,
   "id": "853ae3da",
   "metadata": {},
   "outputs": [],
   "source": []
  }
 ],
 "metadata": {
  "kernelspec": {
   "display_name": "Python 3 (ipykernel)",
   "language": "python",
   "name": "python3"
  },
  "language_info": {
   "codemirror_mode": {
    "name": "ipython",
    "version": 3
   },
   "file_extension": ".py",
   "mimetype": "text/x-python",
   "name": "python",
   "nbconvert_exporter": "python",
   "pygments_lexer": "ipython3",
   "version": "3.9.12"
  }
 },
 "nbformat": 4,
 "nbformat_minor": 5
}
